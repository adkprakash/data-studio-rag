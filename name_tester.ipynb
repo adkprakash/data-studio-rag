{
 "cells": [
  {
   "cell_type": "code",
   "execution_count": 1,
   "metadata": {},
   "outputs": [],
   "source": [
    "from clean_html import call_build_block\n",
    "from bs4 import BeautifulSoup"
   ]
  },
  {
   "cell_type": "code",
   "execution_count": 2,
   "metadata": {},
   "outputs": [],
   "source": [
    "def preprocess_for_excel_name():\n",
    "    html_elements = call_build_block()\n",
    "    soup = BeautifulSoup(html_elements, \"html.parser\")\n",
    "    h3_elements = soup.find_all(\"h3\")\n",
    "    print(f\"all the h3 elements {h3_elements}\")\n",
    "    \n",
    "    last_text = \"\"\n",
    "    if h3_elements:\n",
    "        last_h3 = h3_elements[-1]\n",
    "        text_parts = list(last_h3.stripped_strings)\n",
    "        if text_parts:\n",
    "            last_text = text_parts[-1]\n",
    "    \n",
    "    \n",
    "    last_text = last_text.replace(\" \", \"_\").replace(\".\",\"\")\n",
    "    return last_text"
   ]
  },
  {
   "cell_type": "code",
   "execution_count": 3,
   "metadata": {},
   "outputs": [
    {
     "name": "stdout",
     "output_type": "stream",
     "text": [
      "all the h3 elements [<h3>About Socket Head Screws</h3>, <h3>Mil. Spec. Alloy Steel Socket Head Screws </h3>, <h3>Mil. Spec. Alloy Steel Socket Head Screws </h3>]\n",
      "Mil_Spec_Alloy_Steel_Socket_Head_Screws\n"
     ]
    }
   ],
   "source": [
    "data=preprocess_for_excel_name()\n",
    "print(data)"
   ]
  }
 ],
 "metadata": {
  "kernelspec": {
   "display_name": ".venv",
   "language": "python",
   "name": "python3"
  },
  "language_info": {
   "codemirror_mode": {
    "name": "ipython",
    "version": 3
   },
   "file_extension": ".py",
   "mimetype": "text/x-python",
   "name": "python",
   "nbconvert_exporter": "python",
   "pygments_lexer": "ipython3",
   "version": "3.10.16"
  }
 },
 "nbformat": 4,
 "nbformat_minor": 2
}
